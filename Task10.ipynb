{
 "cells": [
  {
   "cell_type": "code",
   "execution_count": 4,
   "id": "7ed1f662-2a17-4518-bdf4-295ab89f45d0",
   "metadata": {},
   "outputs": [
    {
     "name": "stdin",
     "output_type": "stream",
     "text": [
      "a=  3\n",
      "b=  7\n"
     ]
    },
    {
     "name": "stdout",
     "output_type": "stream",
     "text": [
      "3    7\n"
     ]
    }
   ],
   "source": [
    "a = int(input('a= '))\n",
    "b = int(input('b= '))\n",
    "if a>b:\n",
    "    a,b=b,a\n",
    "print (a, \"  \",b)"
   ]
  },
  {
   "cell_type": "code",
   "execution_count": 18,
   "id": "42ef6571-330b-4295-b678-2cd33abc1d1e",
   "metadata": {},
   "outputs": [
    {
     "name": "stdin",
     "output_type": "stream",
     "text": [
      "a=  6\n",
      "b=  45\n",
      "c=  3\n"
     ]
    },
    {
     "name": "stdout",
     "output_type": "stream",
     "text": [
      "3 6 45\n"
     ]
    }
   ],
   "source": [
    "a = int(input('a= '))\n",
    "b = int(input('b= '))\n",
    "c = int(input('c= '))\n",
    "if a > b:\n",
    "    a, b = b, a\n",
    "if b > c:\n",
    "    b, c = c, b\n",
    "if a > b:\n",
    "    a, b = b, a\n",
    "print(a, b, c)\n"
   ]
  },
  {
   "cell_type": "code",
   "execution_count": 21,
   "id": "38148e06-a5f4-4563-8483-6bd2ae3139d7",
   "metadata": {},
   "outputs": [
    {
     "name": "stdout",
     "output_type": "stream",
     "text": [
      "4\n"
     ]
    }
   ],
   "source": [
    "list = ['time', 6, 'to' , 7, \"use\", \"Python\", 9]\n",
    "string = 0\n",
    "for x in list:\n",
    "    if type(x) == str:\n",
    "        string += 1\n",
    "print(string)\n",
    "    \n"
   ]
  },
  {
   "cell_type": "code",
   "execution_count": null,
   "id": "5f7685aa-1be4-4011-bfd5-fb4c8954cb36",
   "metadata": {},
   "outputs": [],
   "source": [
    "def find_two_smallest(numbers):\n",
    "    numbers.sort()          \n",
    "    return numbers[0], numbers[1]  \n",
    "\n"
   ]
  },
  {
   "cell_type": "code",
   "execution_count": 23,
   "id": "81f5130b-734e-4299-8187-358a0dac29d6",
   "metadata": {},
   "outputs": [],
   "source": [
    "list1 = [1,5,74,4,33,77]\n",
    "list2 = [5, 6,3, 55, 88, 14324]\n",
    "list3 = [77, 33, 265, 8, 44, 3, 7]"
   ]
  },
  {
   "cell_type": "code",
   "execution_count": 25,
   "id": "e94cf4e3-d3a2-4d58-b406-377dd3f894a3",
   "metadata": {},
   "outputs": [],
   "source": [
    "import module1\n",
    "import module2\n",
    "file = open(\"result.txt\", \"w\")\n",
    "for numbers in [module2.list1, module2.list2, module2.list3]:\n",
    "    a, b = module1.find_two_smallest(numbers)\n",
    "    file.write(str(a) + \" \" + str(b) + \"\\n\")\n",
    "file.close()"
   ]
  },
  {
   "cell_type": "code",
   "execution_count": null,
   "id": "1f729da0-0b42-4913-8043-b6ee73b9dc01",
   "metadata": {},
   "outputs": [],
   "source": []
  }
 ],
 "metadata": {
  "kernelspec": {
   "display_name": "Python 3 (ipykernel)",
   "language": "python",
   "name": "python3"
  },
  "language_info": {
   "codemirror_mode": {
    "name": "ipython",
    "version": 3
   },
   "file_extension": ".py",
   "mimetype": "text/x-python",
   "name": "python",
   "nbconvert_exporter": "python",
   "pygments_lexer": "ipython3",
   "version": "3.12.7"
  }
 },
 "nbformat": 4,
 "nbformat_minor": 5
}
