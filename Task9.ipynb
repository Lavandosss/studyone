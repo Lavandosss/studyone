{
 "cells": [
  {
   "cell_type": "code",
   "execution_count": 31,
   "id": "5160dc68-ed69-4b8e-b722-8d1dd8e521fd",
   "metadata": {},
   "outputs": [
    {
     "name": "stdout",
     "output_type": "stream",
     "text": [
      "Volkhovsky per., 3, office 207\n"
     ]
    }
   ],
   "source": [
    "text = \"Before departure, all students leaving for exchange studies should fill in a specialized application form. An application should be submitted in 1 copy and not later than 2 weeks prior to departure for the exchange semester, provided that the students do not have any academic failure. The paper should be submitted to the International Academic Mobility Office (Volkhovsky per., 3, office 207, Tel.: +7 (812) 323 8447). A copy of the invitation letter from a host school - partner of GSOM SPbU has to be attached to the application.\"\n",
    "start = \"(\"\n",
    "end = \", Tel.\"\n",
    "startfind = text.find(start) + 1\n",
    "endfind = text.find(end, startfind)\n",
    "finder = text[startfind:endfind]\n",
    "print (finder)"
   ]
  },
  {
   "cell_type": "code",
   "execution_count": 33,
   "id": "4c62a7a2-d13c-4d57-b77f-9cdfc8c94345",
   "metadata": {},
   "outputs": [
    {
     "name": "stdout",
     "output_type": "stream",
     "text": [
      "['Eng', 'Rus', 'Chin']\n"
     ]
    }
   ],
   "source": [
    "Language = [\"Eng\", \"Rus\", \"Chin\"]\n",
    "print(Language)\n"
   ]
  },
  {
   "cell_type": "code",
   "execution_count": 35,
   "id": "2eba5110-60d9-41f2-9168-24fc9c08ad98",
   "metadata": {},
   "outputs": [],
   "source": [
    "Language.append(\"Span\")"
   ]
  },
  {
   "cell_type": "code",
   "execution_count": 36,
   "id": "4a735bb4-d744-4ba6-a4f3-2357c7d5f818",
   "metadata": {},
   "outputs": [
    {
     "name": "stdout",
     "output_type": "stream",
     "text": [
      "['Eng', 'Rus', 'Chin', 'Span']\n"
     ]
    }
   ],
   "source": [
    "print(Language)\n"
   ]
  },
  {
   "cell_type": "code",
   "execution_count": 37,
   "id": "a7134d36-b3e3-46d6-8b0d-574c2ab83c60",
   "metadata": {},
   "outputs": [
    {
     "name": "stdin",
     "output_type": "stream",
     "text": [
      "new language portug\n"
     ]
    }
   ],
   "source": [
    "Language.append(input(\"new language\"))"
   ]
  },
  {
   "cell_type": "code",
   "execution_count": 38,
   "id": "8df2d3c0-085f-4315-8180-cf70efd6249d",
   "metadata": {},
   "outputs": [
    {
     "name": "stdout",
     "output_type": "stream",
     "text": [
      "['Eng', 'Rus', 'Chin', 'Span', 'portug']\n"
     ]
    }
   ],
   "source": [
    "print(Language)\n"
   ]
  },
  {
   "cell_type": "code",
   "execution_count": 40,
   "id": "d6302898-401d-4a90-9dac-c47f49981110",
   "metadata": {},
   "outputs": [
    {
     "name": "stdout",
     "output_type": "stream",
     "text": [
      "['Nice', 6, 6, 7]\n"
     ]
    }
   ],
   "source": [
    "List = ['Nice', 6 , 6 , 7]\n",
    "print(List)\n"
   ]
  },
  {
   "cell_type": "code",
   "execution_count": 41,
   "id": "e5541252-ccab-4006-a39d-81d5713f1005",
   "metadata": {},
   "outputs": [
    {
     "name": "stdout",
     "output_type": "stream",
     "text": [
      "4\n"
     ]
    }
   ],
   "source": [
    "print (len(List))"
   ]
  },
  {
   "cell_type": "code",
   "execution_count": 42,
   "id": "9093dc10-3a92-41b5-bfa2-64cdcd205c71",
   "metadata": {},
   "outputs": [
    {
     "name": "stdout",
     "output_type": "stream",
     "text": [
      "['Nice', 6, 6, 'UGAGA', 7]\n"
     ]
    }
   ],
   "source": [
    "List.insert (3, 'UGAGA')\n",
    "print (List)"
   ]
  },
  {
   "cell_type": "code",
   "execution_count": 43,
   "id": "3cf869f2-2ab8-421b-a992-43d7b4fc9096",
   "metadata": {},
   "outputs": [
    {
     "name": "stdout",
     "output_type": "stream",
     "text": [
      "['Eng', 'Rus', 'Chin', 'Span', 'portug', 'Nice', 6, 6, 'UGAGA', 7]\n"
     ]
    }
   ],
   "source": [
    "New=Language+List\n",
    "print(New)"
   ]
  },
  {
   "cell_type": "code",
   "execution_count": 44,
   "id": "4441bc77-400b-4728-9f69-cb1fda9fa59b",
   "metadata": {},
   "outputs": [
    {
     "name": "stdout",
     "output_type": "stream",
     "text": [
      "['Eng', 'Rus', 'Chin', 'Span', 'portug', 'Nice', 6, 6, 'UGAGA', 7]\n"
     ]
    }
   ],
   "source": [
    "Language = List\n",
    "print (New)"
   ]
  },
  {
   "cell_type": "code",
   "execution_count": 45,
   "id": "e4abb1c2-2b24-40a3-9ac3-308d38f78658",
   "metadata": {},
   "outputs": [
    {
     "name": "stdout",
     "output_type": "stream",
     "text": [
      "['Nice', 6, 6, 'UGAGA', 7]\n"
     ]
    }
   ],
   "source": [
    "print(List)"
   ]
  },
  {
   "cell_type": "code",
   "execution_count": 46,
   "id": "1f8337b3-9aba-4feb-b0dd-7cfeaeffe3f1",
   "metadata": {},
   "outputs": [
    {
     "name": "stdout",
     "output_type": "stream",
     "text": [
      "True\n"
     ]
    }
   ],
   "source": [
    "print (Language is List)"
   ]
  },
  {
   "cell_type": "code",
   "execution_count": 47,
   "id": "893d60bb-ebf0-4c7a-8ebb-ff154a76dd73",
   "metadata": {},
   "outputs": [
    {
     "name": "stdout",
     "output_type": "stream",
     "text": [
      "['Nice', 6, 6, 'UGAGA', 7] ['Nice', 6, 6, 'UGAGA', 7]\n"
     ]
    }
   ],
   "source": [
    "print (Language, List)\n"
   ]
  },
  {
   "cell_type": "code",
   "execution_count": 48,
   "id": "17201ddf-ae20-403a-a912-6db8a39e6854",
   "metadata": {},
   "outputs": [
    {
     "name": "stdout",
     "output_type": "stream",
     "text": [
      "['Eng', 'Rus', 'Chin', 'Span', 'portug', 'Nice', 6, 6, 'UGAGA', 7]\n"
     ]
    }
   ],
   "source": [
    "print (New)"
   ]
  },
  {
   "cell_type": "code",
   "execution_count": 60,
   "id": "5c79c754-ea7d-43c2-9ab7-feb1a2951409",
   "metadata": {},
   "outputs": [
    {
     "name": "stdout",
     "output_type": "stream",
     "text": [
      "(1, 515, 77, 88, 32435)\n",
      "32435\n",
      "1\n",
      "32435\n",
      "(1, 515, 77, 88, 32435, 5, 6, 74, 43, 2)\n",
      "43\n",
      "(1, 45, 56, 677, ['Nice', 6, 6, 'UGAGA', 7])\n"
     ]
    }
   ],
   "source": [
    "Tuple = (1, 515, 77, 88,32435)\n",
    "print(Tuple)\n",
    "print(Tuple[4])\n",
    "print(min(Tuple))\n",
    "print(max(Tuple))\n",
    "tuple2 = (5, 6, 74, 43, 2)\n",
    "Newt = Tuple + tuple2\n",
    "print(Newt)\n",
    "print(Newt[8])\n",
    "add = (1,45, 56, 677, Language)\n",
    "print(add)\n"
   ]
  },
  {
   "cell_type": "code",
   "execution_count": 67,
   "id": "bd278996-9fa0-4a08-b28b-d51a3185193b",
   "metadata": {},
   "outputs": [
    {
     "name": "stdout",
     "output_type": "stream",
     "text": [
      "{'one': 1, 'two': 2, 'three': 3}\n",
      "2\n",
      "{'b', 'c', 'a'}\n",
      "True\n"
     ]
    }
   ],
   "source": [
    "Dictionary = {'one':1, 'two':2, 'three':3}\n",
    "print(Dictionary)\n",
    "print(Dictionary['two'])\n",
    "checker = {'a', 'b', 'c'}\n",
    "print(checker)\n",
    "print('a' in checker)"
   ]
  },
  {
   "cell_type": "code",
   "execution_count": null,
   "id": "2a8229de-b90c-4b78-83d5-f5b452379163",
   "metadata": {},
   "outputs": [],
   "source": []
  }
 ],
 "metadata": {
  "kernelspec": {
   "display_name": "Python 3 (ipykernel)",
   "language": "python",
   "name": "python3"
  },
  "language_info": {
   "codemirror_mode": {
    "name": "ipython",
    "version": 3
   },
   "file_extension": ".py",
   "mimetype": "text/x-python",
   "name": "python",
   "nbconvert_exporter": "python",
   "pygments_lexer": "ipython3",
   "version": "3.12.7"
  }
 },
 "nbformat": 4,
 "nbformat_minor": 5
}
