{
 "cells": [
  {
   "cell_type": "code",
   "execution_count": 1,
   "id": "78213873-f470-422d-8742-d8760da0e5ab",
   "metadata": {},
   "outputs": [
    {
     "name": "stdout",
     "output_type": "stream",
     "text": [
      "8\n"
     ]
    }
   ],
   "source": [
    "a = 2\n",
    "b = 6\n",
    "print (a+b)\n"
   ]
  },
  {
   "cell_type": "code",
   "execution_count": 2,
   "id": "f8b1c2eb-a857-4789-8718-b2190136be76",
   "metadata": {},
   "outputs": [
    {
     "name": "stdout",
     "output_type": "stream",
     "text": [
      "The Zen of Python, by Tim Peters\n",
      "\n",
      "Beautiful is better than ugly.\n",
      "Explicit is better than implicit.\n",
      "Simple is better than complex.\n",
      "Complex is better than complicated.\n",
      "Flat is better than nested.\n",
      "Sparse is better than dense.\n",
      "Readability counts.\n",
      "Special cases aren't special enough to break the rules.\n",
      "Although practicality beats purity.\n",
      "Errors should never pass silently.\n",
      "Unless explicitly silenced.\n",
      "In the face of ambiguity, refuse the temptation to guess.\n",
      "There should be one-- and preferably only one --obvious way to do it.\n",
      "Although that way may not be obvious at first unless you're Dutch.\n",
      "Now is better than never.\n",
      "Although never is often better than *right* now.\n",
      "If the implementation is hard to explain, it's a bad idea.\n",
      "If the implementation is easy to explain, it may be a good idea.\n",
      "Namespaces are one honking great idea -- let's do more of those!\n"
     ]
    }
   ],
   "source": [
    "import this"
   ]
  },
  {
   "cell_type": "code",
   "execution_count": 3,
   "id": "59634a3c-1c94-404c-a3f2-76c3aab446fb",
   "metadata": {},
   "outputs": [
    {
     "data": {
      "text/plain": [
       "-4"
      ]
     },
     "execution_count": 3,
     "metadata": {},
     "output_type": "execute_result"
    }
   ],
   "source": [
    "a-b"
   ]
  },
  {
   "cell_type": "code",
   "execution_count": 10,
   "id": "ac9a0436-80aa-4602-bd3a-be57060734f2",
   "metadata": {},
   "outputs": [],
   "source": [
    "Hi = \"Hello world\""
   ]
  },
  {
   "cell_type": "code",
   "execution_count": 11,
   "id": "f98291d8-a8e6-4b6a-9483-c005ba4bfa1a",
   "metadata": {},
   "outputs": [
    {
     "name": "stdout",
     "output_type": "stream",
     "text": [
      "Hello world\n"
     ]
    }
   ],
   "source": [
    "print ( Hi )\n"
   ]
  },
  {
   "cell_type": "code",
   "execution_count": 12,
   "id": "25ded4e5-c497-4019-a1ee-330f0675e5d7",
   "metadata": {},
   "outputs": [
    {
     "name": "stdout",
     "output_type": "stream",
     "text": [
      "42342 12412.241543645343\n"
     ]
    }
   ],
   "source": [
    "x = 42342\n",
    "y = 12412.2415436453436\n",
    "print (x, y)\n"
   ]
  },
  {
   "cell_type": "code",
   "execution_count": 13,
   "id": "45fd34ee-c7ba-4853-b260-b8b73f83b1c5",
   "metadata": {},
   "outputs": [
    {
     "data": {
      "text/plain": [
       "54754.241543645345"
      ]
     },
     "execution_count": 13,
     "metadata": {},
     "output_type": "execute_result"
    }
   ],
   "source": [
    "x+y\n"
   ]
  },
  {
   "cell_type": "code",
   "execution_count": 14,
   "id": "789bfd32-9aa2-4931-980d-df3cb2e2c761",
   "metadata": {},
   "outputs": [
    {
     "name": "stdout",
     "output_type": "stream",
     "text": [
      "<class 'int'>\n",
      "<class 'float'>\n"
     ]
    }
   ],
   "source": [
    "print (type(x))\n",
    "print (type(y))"
   ]
  },
  {
   "cell_type": "code",
   "execution_count": 15,
   "id": "3ce00f96-2ad3-4c06-bb56-8b9fac1f70f5",
   "metadata": {},
   "outputs": [
    {
     "data": {
      "text/plain": [
       "1.0"
      ]
     },
     "execution_count": 15,
     "metadata": {},
     "output_type": "execute_result"
    }
   ],
   "source": [
    "5/5"
   ]
  },
  {
   "cell_type": "code",
   "execution_count": 17,
   "id": "596a1286-2a8d-4705-9c78-04f514194c4b",
   "metadata": {},
   "outputs": [],
   "source": [
    "strings = 'tret'\n",
    "multiline_str = \"\"\"gdsg\n",
    "gfdgdf\n",
    "htryrt\"\"\""
   ]
  },
  {
   "cell_type": "code",
   "execution_count": 18,
   "id": "99137c28-867d-4d2e-97e1-d617fd78d822",
   "metadata": {},
   "outputs": [
    {
     "name": "stdout",
     "output_type": "stream",
     "text": [
      "tret gdsg\n",
      "gfdgdf\n",
      "htryrt\n"
     ]
    }
   ],
   "source": [
    "print (strings, multiline_str)"
   ]
  },
  {
   "cell_type": "code",
   "execution_count": 20,
   "id": "86a0c3cb-af1c-4aef-9d5d-e717d60516f8",
   "metadata": {},
   "outputs": [
    {
     "name": "stdout",
     "output_type": "stream",
     "text": [
      "hi \\n wow wow \n",
      " hi\n"
     ]
    }
   ],
   "source": [
    "p = r\"hi \\n wow\"\n",
    "m = \"wow \\n hi\"\n",
    "print (p, m)"
   ]
  },
  {
   "cell_type": "code",
   "execution_count": 25,
   "id": "1ded7c0f-9fad-411d-be6a-c87211127d36",
   "metadata": {},
   "outputs": [
    {
     "name": "stdout",
     "output_type": "stream",
     "text": [
      "26\n"
     ]
    }
   ],
   "source": [
    "find = \"try to find me if you can find me\"\n",
    "finder = find.rfind(\"find\")\n",
    "print(finder)"
   ]
  },
  {
   "cell_type": "code",
   "execution_count": 26,
   "id": "5c23a6a7-7864-44aa-ad68-7e4745338a57",
   "metadata": {},
   "outputs": [
    {
     "name": "stdout",
     "output_type": "stream",
     "text": [
      "7\n"
     ]
    }
   ],
   "source": [
    "finder = find.find(\"find\")\n",
    "print(finder)"
   ]
  },
  {
   "cell_type": "code",
   "execution_count": 27,
   "id": "c632e4c2-2220-4c65-8e08-a7f947156ff0",
   "metadata": {},
   "outputs": [
    {
     "name": "stdout",
     "output_type": "stream",
     "text": [
      "-1\n"
     ]
    }
   ],
   "source": [
    "finder = find.rfind(\"findgfdg\")\n",
    "print(finder)"
   ]
  },
  {
   "cell_type": "code",
   "execution_count": 31,
   "id": "4901920f-db1e-4b6e-9075-e989064e7099",
   "metadata": {},
   "outputs": [
    {
     "name": "stdout",
     "output_type": "stream",
     "text": [
      "True\n",
      "False\n"
     ]
    }
   ],
   "source": [
    "x=(5435345.657>1111)\n",
    "y=(999<111)\n",
    "print(x)\n",
    "print(y)"
   ]
  },
  {
   "cell_type": "code",
   "execution_count": 38,
   "id": "fffbc746-5ad4-47fe-be96-bb872e4a7e93",
   "metadata": {},
   "outputs": [
    {
     "name": "stdout",
     "output_type": "stream",
     "text": [
      "11.4\n"
     ]
    }
   ],
   "source": [
    "x=5.4\n",
    "y=\"6\"\n",
    "print (x+int(y))\n"
   ]
  },
  {
   "cell_type": "code",
   "execution_count": 39,
   "id": "7a709e96-91d4-4938-9a58-1ecd2e7b6945",
   "metadata": {},
   "outputs": [
    {
     "name": "stdout",
     "output_type": "stream",
     "text": [
      "5.46\n"
     ]
    }
   ],
   "source": [
    "x=5.4\n",
    "y=\"6\"\n",
    "print (str(x)+y)"
   ]
  },
  {
   "cell_type": "code",
   "execution_count": 41,
   "id": "7d636912-9b66-48ef-9ac5-97c0afa9c0a0",
   "metadata": {},
   "outputs": [
    {
     "name": "stdin",
     "output_type": "stream",
     "text": [
      "enter number 543\n",
      "enter number 5435345345\n"
     ]
    },
    {
     "name": "stdout",
     "output_type": "stream",
     "text": [
      "result 5435435345345\n"
     ]
    }
   ],
   "source": [
    "x=input('enter number')\n",
    "y=input('enter number')\n",
    "print(\"result\", x+y)"
   ]
  },
  {
   "cell_type": "code",
   "execution_count": 43,
   "id": "8bd08f0c-4cb1-4941-ad8e-8aa9705828d7",
   "metadata": {},
   "outputs": [
    {
     "name": "stdin",
     "output_type": "stream",
     "text": [
      "enter number tret\n",
      "enter number oiuo\n"
     ]
    },
    {
     "ename": "ValueError",
     "evalue": "invalid literal for int() with base 10: 'tret'",
     "output_type": "error",
     "traceback": [
      "\u001b[0;31m---------------------------------------------------------------------------\u001b[0m",
      "\u001b[0;31mValueError\u001b[0m                                Traceback (most recent call last)",
      "Cell \u001b[0;32mIn[43], line 3\u001b[0m\n\u001b[1;32m      1\u001b[0m x\u001b[38;5;241m=\u001b[39m\u001b[38;5;28minput\u001b[39m(\u001b[38;5;124m'\u001b[39m\u001b[38;5;124menter number\u001b[39m\u001b[38;5;124m'\u001b[39m)\n\u001b[1;32m      2\u001b[0m y\u001b[38;5;241m=\u001b[39m\u001b[38;5;28minput\u001b[39m(\u001b[38;5;124m'\u001b[39m\u001b[38;5;124menter number\u001b[39m\u001b[38;5;124m'\u001b[39m)\n\u001b[0;32m----> 3\u001b[0m \u001b[38;5;28mprint\u001b[39m(\u001b[38;5;124m\"\u001b[39m\u001b[38;5;124mresult\u001b[39m\u001b[38;5;124m\"\u001b[39m, \u001b[38;5;28;43mint\u001b[39;49m\u001b[43m(\u001b[49m\u001b[43mx\u001b[49m\u001b[43m)\u001b[49m\u001b[38;5;241m+\u001b[39m\u001b[38;5;28mint\u001b[39m(y))\n",
      "\u001b[0;31mValueError\u001b[0m: invalid literal for int() with base 10: 'tret'"
     ]
    }
   ],
   "source": [
    "x=input('enter number')\n",
    "y=input('enter number')\n",
    "print(\"result\", int(x)+int(y))"
   ]
  },
  {
   "cell_type": "code",
   "execution_count": 45,
   "id": "ca93ec7d-01f9-42ff-a3f7-f294f1217910",
   "metadata": {},
   "outputs": [
    {
     "name": "stdin",
     "output_type": "stream",
     "text": [
      "enter number 55\n",
      "enter number 88\n"
     ]
    },
    {
     "name": "stdout",
     "output_type": "stream",
     "text": [
      "result 143\n"
     ]
    }
   ],
   "source": [
    "x=eval(input('enter number'))\n",
    "y=eval(input('enter number'))\n",
    "print(\"result\", int(x)+int(y))"
   ]
  },
  {
   "cell_type": "code",
   "execution_count": 46,
   "id": "ff30192a-31b7-4305-ab0a-baf03ddfc3a2",
   "metadata": {},
   "outputs": [
    {
     "name": "stdin",
     "output_type": "stream",
     "text": [
      "enter number 666\n",
      "enter number 7\n"
     ]
    },
    {
     "name": "stdout",
     "output_type": "stream",
     "text": [
      "result 673\n"
     ]
    }
   ],
   "source": [
    "x=eval(input('enter number'))\n",
    "y=eval(input('enter number'))\n",
    "print(\"result\", (x)+(y))"
   ]
  },
  {
   "cell_type": "code",
   "execution_count": 47,
   "id": "40f9ea41-bed4-480d-8c01-d01f63a695a8",
   "metadata": {},
   "outputs": [
    {
     "name": "stdin",
     "output_type": "stream",
     "text": [
      "enter number gfdg\n"
     ]
    },
    {
     "ename": "NameError",
     "evalue": "name 'gfdg' is not defined",
     "output_type": "error",
     "traceback": [
      "\u001b[0;31m---------------------------------------------------------------------------\u001b[0m",
      "\u001b[0;31mNameError\u001b[0m                                 Traceback (most recent call last)",
      "Cell \u001b[0;32mIn[47], line 1\u001b[0m\n\u001b[0;32m----> 1\u001b[0m x\u001b[38;5;241m=\u001b[39m\u001b[38;5;28;43meval\u001b[39;49m\u001b[43m(\u001b[49m\u001b[38;5;28;43minput\u001b[39;49m\u001b[43m(\u001b[49m\u001b[38;5;124;43m'\u001b[39;49m\u001b[38;5;124;43menter number\u001b[39;49m\u001b[38;5;124;43m'\u001b[39;49m\u001b[43m)\u001b[49m\u001b[43m)\u001b[49m\n\u001b[1;32m      2\u001b[0m y\u001b[38;5;241m=\u001b[39m\u001b[38;5;28meval\u001b[39m(\u001b[38;5;28minput\u001b[39m(\u001b[38;5;124m'\u001b[39m\u001b[38;5;124menter number\u001b[39m\u001b[38;5;124m'\u001b[39m))\n\u001b[1;32m      3\u001b[0m \u001b[38;5;28mprint\u001b[39m(\u001b[38;5;124m\"\u001b[39m\u001b[38;5;124mresult\u001b[39m\u001b[38;5;124m\"\u001b[39m, (x)\u001b[38;5;241m+\u001b[39m(y))\n",
      "File \u001b[0;32m<string>:1\u001b[0m\n",
      "\u001b[0;31mNameError\u001b[0m: name 'gfdg' is not defined"
     ]
    }
   ],
   "source": [
    "x=eval(input('enter number'))\n",
    "y=eval(input('enter number'))\n",
    "print(\"result\", (x)+(y))"
   ]
  },
  {
   "cell_type": "code",
   "execution_count": 1,
   "id": "dcc7b3b4-5761-48e8-b584-2b5a7c0cb3d8",
   "metadata": {},
   "outputs": [],
   "source": [
    "import module1\n",
    "import module2"
   ]
  },
  {
   "cell_type": "code",
   "execution_count": null,
   "id": "4c7ad3b8-8852-4329-b7d4-eb50327e7270",
   "metadata": {},
   "outputs": [],
   "source": []
  }
 ],
 "metadata": {
  "kernelspec": {
   "display_name": "Python 3 (ipykernel)",
   "language": "python",
   "name": "python3"
  },
  "language_info": {
   "codemirror_mode": {
    "name": "ipython",
    "version": 3
   },
   "file_extension": ".py",
   "mimetype": "text/x-python",
   "name": "python",
   "nbconvert_exporter": "python",
   "pygments_lexer": "ipython3",
   "version": "3.12.7"
  }
 },
 "nbformat": 4,
 "nbformat_minor": 5
}
